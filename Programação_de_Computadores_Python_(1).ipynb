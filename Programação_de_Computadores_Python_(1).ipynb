{
  "nbformat": 4,
  "nbformat_minor": 0,
  "metadata": {
    "colab": {
      "name": "Programação de Computadores: Python (1)",
      "provenance": [],
      "authorship_tag": "ABX9TyM4CFRkrAIU8RI4pwST/OsN",
      "include_colab_link": true
    },
    "kernelspec": {
      "name": "python3",
      "display_name": "Python 3"
    },
    "language_info": {
      "name": "python"
    }
  },
  "cells": [
    {
      "cell_type": "markdown",
      "metadata": {
        "id": "view-in-github",
        "colab_type": "text"
      },
      "source": [
        "<a href=\"https://colab.research.google.com/github/xdavi3/Desafio-de-Projeto-sobre-Git-GitHunb-da-Dio/blob/main/Programa%C3%A7%C3%A3o_de_Computadores_Python_(1).ipynb\" target=\"_parent\"><img src=\"https://colab.research.google.com/assets/colab-badge.svg\" alt=\"Open In Colab\"/></a>"
      ]
    },
    {
      "cell_type": "markdown",
      "source": [
        "CONCEITOS DE LÓGICA DE PROGRAMAÇÃO:\n",
        "➢ Variável: inteiro (int), real (float), string(str) ou Lógico (bool),\n",
        "➢ Entrada de dados: input,\n",
        "➢ Saída de dados: print,\n",
        "➢ Operadores: Aritméticos, Relacionais e Lógicos e\n",
        "➢ Estruturas de Seleção: Simples: if, Composta: if – else e Encadeada: if – elif – else."
      ],
      "metadata": {
        "id": "BMrLOrsfdD_-"
      }
    },
    {
      "cell_type": "markdown",
      "source": [
        "1) Escreva um algoritmo em Python para cada item a seguir:\n",
        "\n",
        "a) Calcular e exibir a hipotenusa (𝐴) de um triângulo retângulo de catetos 𝐵 e 𝐶, sabendo que:\n",
        "𝐴= √𝐵2+ 𝐶2"
      ],
      "metadata": {
        "id": "oDOYGhTNdSbO"
      }
    },
    {
      "cell_type": "code",
      "source": [
        "from math import hypot\n",
        "co = float (input('Comprimento do cateto oposto: ')) \n",
        "ca = float (input('Comprimento do cateto adjacente: '))\n",
        "hi = hypot(co, ca)\n",
        "print('A hipotenusa vai medir {:.2f}'.format(hi))\n"
      ],
      "metadata": {
        "colab": {
          "base_uri": "https://localhost:8080/"
        },
        "id": "dXp1s5kfdW1t",
        "outputId": "517aee02-c7ae-4b26-dc03-a8f809a467be"
      },
      "execution_count": null,
      "outputs": [
        {
          "output_type": "stream",
          "name": "stdout",
          "text": [
            "Comprimento do cateto oposto: 8\n",
            "Comprimento do cateto adjacente: 3\n",
            "A hipotenusa vai medir 8.54\n"
          ]
        }
      ]
    },
    {
      "cell_type": "markdown",
      "source": [
        "b) Calcular e exibir a área de um quadrado de lado (L). Área = L2."
      ],
      "metadata": {
        "id": "x5VLfCLvifiE"
      }
    },
    {
      "cell_type": "code",
      "source": [
        "def area (larg, comp):\n",
        "    a = larg * comp\n",
        "    print(f'A area de um terreno {larg}x{comp} e de {a}m2.')\n",
        "\n",
        "\n",
        "# Programa principal\n",
        "print('Controle de Terrenos')\n",
        "print('-' * 20)\n",
        "l = float(input('LARGURA (m): '))\n",
        "c = float(input('COMPRIMENTO (m): '))\n",
        "area(l, c)\n"
      ],
      "metadata": {
        "id": "78xHliogi9tl"
      },
      "execution_count": null,
      "outputs": []
    },
    {
      "cell_type": "markdown",
      "source": [
        "d) Calcular e exibir a área e o comprimento de um círculo de Raio (R), sabendo que, Área = π * R2 e Comprimento = 2 * π * R."
      ],
      "metadata": {
        "id": "KR2ODHVtpnyf"
      }
    },
    {
      "cell_type": "code",
      "source": [
        "import math \n",
        "\n",
        "raio = float(input(\"Informa o raio do circulo: \"))\n",
        "area = math.pi * (raio ** 2)\n",
        "print(\"A area e de: \", area)\n",
        "\n"
      ],
      "metadata": {
        "colab": {
          "base_uri": "https://localhost:8080/"
        },
        "id": "SQBSJgthprQw",
        "outputId": "b12593f3-bfad-4901-e34d-2cfca19d911c"
      },
      "execution_count": null,
      "outputs": [
        {
          "output_type": "stream",
          "name": "stdout",
          "text": [
            "Informa o raio do circulo: 25\n",
            "A area e de:  1963.4954084936207\n"
          ]
        }
      ]
    },
    {
      "cell_type": "markdown",
      "source": [
        "e) Calcular e exibir o IMC (Índice de Massa Corpórea) de uma pessoa de altura (H) em metros e massa (M) em quilogramas, sabendo que IMC = M / H2."
      ],
      "metadata": {
        "id": "k2Lz8lLjrWZz"
      }
    },
    {
      "cell_type": "code",
      "source": [
        "peso = float(input('Qual e seu peso ? (Kg) '))\n",
        "altura = float(input('Qual e sua altura ? (m)'))\n",
        "imc = peso / (altura ** 2)\n",
        "print('O IMC dessa pessoa e de {:.1f}'.format(imc))\n",
        "if imc < 18.5:\n",
        "  print('Voce esta ABAIXO DO PESO normal')\n",
        "elif 18.5 <= imc < 25:\n",
        "  print('PARABENS voce esta na faixa de PESO NORMAL')\n",
        "elif 25 <= imc <30:\n",
        "  print('voce esta em SOBREPESO')\n",
        "elif 30 <= imc <40:\n",
        "  print('Voce esta em OBESIDADE! cuidado')\n",
        "elif imc >= 40:\n",
        "  print('Voce esta em OBESIDADE MORBIDA! cuida')\n"
      ],
      "metadata": {
        "id": "ORIdjMwmraf3",
        "colab": {
          "base_uri": "https://localhost:8080/"
        },
        "outputId": "543d1d38-fe66-41c0-9de3-d37ca202a066"
      },
      "execution_count": 49,
      "outputs": [
        {
          "output_type": "stream",
          "name": "stdout",
          "text": [
            "Qual e seu peso ? (Kg) 70\n",
            "Qual e sua altura ? (m)1.75\n",
            "O IMC dessa pessoa e de 22.9\n",
            "PARABENS voce esta na faixa de PESO NORMAL\n"
          ]
        }
      ]
    }
  ]
}